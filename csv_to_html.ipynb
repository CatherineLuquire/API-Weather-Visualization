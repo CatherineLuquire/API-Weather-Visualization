{
 "cells": [
  {
   "cell_type": "code",
   "execution_count": 1,
   "metadata": {},
   "outputs": [],
   "source": [
    "import pandas as pd"
   ]
  },
  {
   "cell_type": "code",
   "execution_count": 2,
   "metadata": {},
   "outputs": [],
   "source": [
    "# create filepath for csv\n",
    "data = \"cleancitydata.csv\""
   ]
  },
  {
   "cell_type": "code",
   "execution_count": 3,
   "metadata": {},
   "outputs": [
    {
     "data": {
      "text/html": [
       "<div>\n",
       "<style scoped>\n",
       "    .dataframe tbody tr th:only-of-type {\n",
       "        vertical-align: middle;\n",
       "    }\n",
       "\n",
       "    .dataframe tbody tr th {\n",
       "        vertical-align: top;\n",
       "    }\n",
       "\n",
       "    .dataframe thead th {\n",
       "        text-align: right;\n",
       "    }\n",
       "</style>\n",
       "<table border=\"1\" class=\"dataframe\">\n",
       "  <thead>\n",
       "    <tr style=\"text-align: right;\">\n",
       "      <th></th>\n",
       "      <th>City</th>\n",
       "      <th>Latitude</th>\n",
       "      <th>Longitude</th>\n",
       "      <th>Max Temp (F)</th>\n",
       "      <th>Humidity %</th>\n",
       "      <th>Cloudiness %</th>\n",
       "      <th>Wind Speed (mph)</th>\n",
       "      <th>Country</th>\n",
       "      <th>Date</th>\n",
       "    </tr>\n",
       "  </thead>\n",
       "  <tbody>\n",
       "    <tr>\n",
       "      <th>0</th>\n",
       "      <td>Port Lincoln</td>\n",
       "      <td>-34.73</td>\n",
       "      <td>135.87</td>\n",
       "      <td>60.278</td>\n",
       "      <td>62</td>\n",
       "      <td>25</td>\n",
       "      <td>10.200446</td>\n",
       "      <td>AU</td>\n",
       "      <td>1595989716</td>\n",
       "    </tr>\n",
       "    <tr>\n",
       "      <th>1</th>\n",
       "      <td>Ushuaia</td>\n",
       "      <td>-54.80</td>\n",
       "      <td>-68.30</td>\n",
       "      <td>35.600</td>\n",
       "      <td>80</td>\n",
       "      <td>40</td>\n",
       "      <td>20.803542</td>\n",
       "      <td>AR</td>\n",
       "      <td>1595989716</td>\n",
       "    </tr>\n",
       "    <tr>\n",
       "      <th>2</th>\n",
       "      <td>Cayenne</td>\n",
       "      <td>4.93</td>\n",
       "      <td>-52.33</td>\n",
       "      <td>78.800</td>\n",
       "      <td>88</td>\n",
       "      <td>26</td>\n",
       "      <td>12.504495</td>\n",
       "      <td>GF</td>\n",
       "      <td>1595989716</td>\n",
       "    </tr>\n",
       "    <tr>\n",
       "      <th>3</th>\n",
       "      <td>Treinta y Tres</td>\n",
       "      <td>-33.23</td>\n",
       "      <td>-54.38</td>\n",
       "      <td>36.212</td>\n",
       "      <td>84</td>\n",
       "      <td>0</td>\n",
       "      <td>5.883152</td>\n",
       "      <td>UY</td>\n",
       "      <td>1595989717</td>\n",
       "    </tr>\n",
       "    <tr>\n",
       "      <th>4</th>\n",
       "      <td>Longyearbyen</td>\n",
       "      <td>78.22</td>\n",
       "      <td>15.64</td>\n",
       "      <td>51.800</td>\n",
       "      <td>81</td>\n",
       "      <td>75</td>\n",
       "      <td>11.408394</td>\n",
       "      <td>SJ</td>\n",
       "      <td>1595989645</td>\n",
       "    </tr>\n",
       "  </tbody>\n",
       "</table>\n",
       "</div>"
      ],
      "text/plain": [
       "             City  Latitude  Longitude  Max Temp (F)  Humidity %  \\\n",
       "0    Port Lincoln    -34.73     135.87        60.278          62   \n",
       "1         Ushuaia    -54.80     -68.30        35.600          80   \n",
       "2         Cayenne      4.93     -52.33        78.800          88   \n",
       "3  Treinta y Tres    -33.23     -54.38        36.212          84   \n",
       "4    Longyearbyen     78.22      15.64        51.800          81   \n",
       "\n",
       "   Cloudiness %  Wind Speed (mph) Country        Date  \n",
       "0            25         10.200446      AU  1595989716  \n",
       "1            40         20.803542      AR  1595989716  \n",
       "2            26         12.504495      GF  1595989716  \n",
       "3             0          5.883152      UY  1595989717  \n",
       "4            75         11.408394      SJ  1595989645  "
      ]
     },
     "execution_count": 3,
     "metadata": {},
     "output_type": "execute_result"
    }
   ],
   "source": [
    "# read csv file\n",
    "weather_df = pd.read_csv(data)\n",
    "weather_df.head()"
   ]
  },
  {
   "cell_type": "code",
   "execution_count": 4,
   "metadata": {},
   "outputs": [],
   "source": [
    "# export to html file\n",
    "weather_df.to_html(\"data.html\", index=False)"
   ]
  },
  {
   "cell_type": "code",
   "execution_count": null,
   "metadata": {},
   "outputs": [],
   "source": []
  }
 ],
 "metadata": {
  "kernelspec": {
   "display_name": "Python [conda env:pythondata]",
   "language": "python",
   "name": "conda-env-pythondata-py"
  },
  "language_info": {
   "codemirror_mode": {
    "name": "ipython",
    "version": 3
   },
   "file_extension": ".py",
   "mimetype": "text/x-python",
   "name": "python",
   "nbconvert_exporter": "python",
   "pygments_lexer": "ipython3",
   "version": "3.6.10"
  }
 },
 "nbformat": 4,
 "nbformat_minor": 4
}
